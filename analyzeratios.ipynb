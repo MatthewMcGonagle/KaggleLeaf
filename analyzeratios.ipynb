{
 "cells": [
  {
   "cell_type": "code",
   "execution_count": 1,
   "metadata": {},
   "outputs": [
    {
     "name": "stderr",
     "output_type": "stream",
     "text": [
      "C:\\Users\\Matthew\\Miniconda3\\lib\\site-packages\\sklearn\\cross_validation.py:44: DeprecationWarning: This module was deprecated in version 0.18 in favor of the model_selection module into which all the refactored classes and functions are moved. Also note that the interface of the new CV iterators are different from that of this module. This module will be removed in 0.20.\n",
      "  \"This module will be removed in 0.20.\", DeprecationWarning)\n"
     ]
    }
   ],
   "source": [
    "import pandas as pd\n",
    "import seaborn as sns\n",
    "import matplotlib as mpl\n",
    "from matplotlib import interactive\n",
    "import matplotlib.pyplot as plt\n",
    "import numpy as np\n",
    "\n",
    "from sklearn import decomposition\n",
    "from sklearn.preprocessing import (LabelEncoder, MinMaxScaler)\n",
    "from sklearn.manifold import Isomap\n",
    "from sklearn.cross_validation import StratifiedShuffleSplit\n",
    "from sklearn.metrics import accuracy_score, log_loss\n",
    "from sklearn.neighbors import KNeighborsClassifier\n",
    "from sklearn.pipeline import Pipeline, FeatureUnion\n",
    "#from sklearn.linear_model import LinearRegression\n",
    "from sklearn.preprocessing import FunctionTransformer\n",
    "\n",
    "from random import shuffle\n",
    "from mpl_toolkits.mplot3d import Axes3D\n"
   ]
  },
  {
   "cell_type": "code",
   "execution_count": 2,
   "metadata": {
    "collapsed": true
   },
   "outputs": [],
   "source": [
    "# Setup formatting of output\n",
    "\n",
    "def myformat(x):\n",
    "    if isinstance(x, str):\n",
    "        return [x]\n",
    "    else:\n",
    "        return '{:.3f}'.format(x)\n",
    "\n",
    "# This is a string for visual separation of different sections of output.\n",
    "seperator = '\\n' + ('-'*80) + '\\n'"
   ]
  },
  {
   "cell_type": "code",
   "execution_count": 3,
   "metadata": {
    "scrolled": false
   },
   "outputs": [
    {
     "name": "stdout",
     "output_type": "stream",
     "text": [
      "\n",
      "--------------------------------------------------------------------------------\n",
      " Ratios Data Set Info\n",
      "<class 'pandas.core.frame.DataFrame'>\n",
      "Int64Index: 1584 entries, 1 to 1584\n",
      "Data columns (total 1 columns):\n",
      "isopratio    1584 non-null float64\n",
      "dtypes: float64(1)\n",
      "memory usage: 24.8 KB\n",
      "None\n",
      "   isopratio\n",
      "id          \n",
      "1     10.619\n",
      "2     12.229\n",
      "3     10.981\n",
      "4     10.133\n",
      "5     11.181\n",
      "6     11.584\n",
      "\n",
      "--------------------------------------------------------------------------------\n",
      " After adding ratios column, training data is\n",
      "\n"
     ]
    },
    {
     "data": {
      "text/html": [
       "<div>\n",
       "<table border=\"1\" class=\"dataframe\">\n",
       "  <thead>\n",
       "    <tr style=\"text-align: right;\">\n",
       "      <th></th>\n",
       "      <th>species</th>\n",
       "      <th>margin1</th>\n",
       "      <th>margin2</th>\n",
       "      <th>margin3</th>\n",
       "      <th>margin4</th>\n",
       "      <th>margin5</th>\n",
       "      <th>margin6</th>\n",
       "      <th>margin7</th>\n",
       "      <th>margin8</th>\n",
       "      <th>margin9</th>\n",
       "      <th>...</th>\n",
       "      <th>texture56</th>\n",
       "      <th>texture57</th>\n",
       "      <th>texture58</th>\n",
       "      <th>texture59</th>\n",
       "      <th>texture60</th>\n",
       "      <th>texture61</th>\n",
       "      <th>texture62</th>\n",
       "      <th>texture63</th>\n",
       "      <th>texture64</th>\n",
       "      <th>isopratio</th>\n",
       "    </tr>\n",
       "    <tr>\n",
       "      <th>id</th>\n",
       "      <th></th>\n",
       "      <th></th>\n",
       "      <th></th>\n",
       "      <th></th>\n",
       "      <th></th>\n",
       "      <th></th>\n",
       "      <th></th>\n",
       "      <th></th>\n",
       "      <th></th>\n",
       "      <th></th>\n",
       "      <th></th>\n",
       "      <th></th>\n",
       "      <th></th>\n",
       "      <th></th>\n",
       "      <th></th>\n",
       "      <th></th>\n",
       "      <th></th>\n",
       "      <th></th>\n",
       "      <th></th>\n",
       "      <th></th>\n",
       "      <th></th>\n",
       "    </tr>\n",
       "  </thead>\n",
       "  <tbody>\n",
       "    <tr>\n",
       "      <th>1</th>\n",
       "      <td>[Acer_Opalus]</td>\n",
       "      <td>0.008</td>\n",
       "      <td>0.023</td>\n",
       "      <td>0.023</td>\n",
       "      <td>0.004</td>\n",
       "      <td>0.012</td>\n",
       "      <td>0.010</td>\n",
       "      <td>0.027</td>\n",
       "      <td>0.000</td>\n",
       "      <td>0.002</td>\n",
       "      <td>...</td>\n",
       "      <td>0.000</td>\n",
       "      <td>0.003</td>\n",
       "      <td>0.003</td>\n",
       "      <td>0.035</td>\n",
       "      <td>0.000</td>\n",
       "      <td>0.000</td>\n",
       "      <td>0.005</td>\n",
       "      <td>0.000</td>\n",
       "      <td>0.025</td>\n",
       "      <td>10.619</td>\n",
       "    </tr>\n",
       "    <tr>\n",
       "      <th>2</th>\n",
       "      <td>[Pterocarya_Stenoptera]</td>\n",
       "      <td>0.006</td>\n",
       "      <td>0.000</td>\n",
       "      <td>0.031</td>\n",
       "      <td>0.016</td>\n",
       "      <td>0.025</td>\n",
       "      <td>0.002</td>\n",
       "      <td>0.020</td>\n",
       "      <td>0.000</td>\n",
       "      <td>0.000</td>\n",
       "      <td>...</td>\n",
       "      <td>0.000</td>\n",
       "      <td>0.000</td>\n",
       "      <td>0.001</td>\n",
       "      <td>0.023</td>\n",
       "      <td>0.000</td>\n",
       "      <td>0.000</td>\n",
       "      <td>0.001</td>\n",
       "      <td>0.039</td>\n",
       "      <td>0.022</td>\n",
       "      <td>12.229</td>\n",
       "    </tr>\n",
       "    <tr>\n",
       "      <th>3</th>\n",
       "      <td>[Quercus_Hartwissiana]</td>\n",
       "      <td>0.006</td>\n",
       "      <td>0.010</td>\n",
       "      <td>0.020</td>\n",
       "      <td>0.008</td>\n",
       "      <td>0.004</td>\n",
       "      <td>0.006</td>\n",
       "      <td>0.068</td>\n",
       "      <td>0.000</td>\n",
       "      <td>0.000</td>\n",
       "      <td>...</td>\n",
       "      <td>0.000</td>\n",
       "      <td>0.006</td>\n",
       "      <td>0.001</td>\n",
       "      <td>0.008</td>\n",
       "      <td>0.000</td>\n",
       "      <td>0.000</td>\n",
       "      <td>0.000</td>\n",
       "      <td>0.021</td>\n",
       "      <td>0.003</td>\n",
       "      <td>10.981</td>\n",
       "    </tr>\n",
       "    <tr>\n",
       "      <th>5</th>\n",
       "      <td>[Tilia_Tomentosa]</td>\n",
       "      <td>0.000</td>\n",
       "      <td>0.004</td>\n",
       "      <td>0.023</td>\n",
       "      <td>0.006</td>\n",
       "      <td>0.021</td>\n",
       "      <td>0.020</td>\n",
       "      <td>0.023</td>\n",
       "      <td>0.000</td>\n",
       "      <td>0.014</td>\n",
       "      <td>...</td>\n",
       "      <td>0.001</td>\n",
       "      <td>0.000</td>\n",
       "      <td>0.000</td>\n",
       "      <td>0.021</td>\n",
       "      <td>0.000</td>\n",
       "      <td>0.000</td>\n",
       "      <td>0.018</td>\n",
       "      <td>0.000</td>\n",
       "      <td>0.048</td>\n",
       "      <td>11.181</td>\n",
       "    </tr>\n",
       "  </tbody>\n",
       "</table>\n",
       "<p>4 rows × 194 columns</p>\n",
       "</div>"
      ],
      "text/plain": [
       "                    species margin1 margin2 margin3 margin4 margin5 margin6  \\\n",
       "id                                                                            \n",
       "1             [Acer_Opalus]   0.008   0.023   0.023   0.004   0.012   0.010   \n",
       "2   [Pterocarya_Stenoptera]   0.006   0.000   0.031   0.016   0.025   0.002   \n",
       "3    [Quercus_Hartwissiana]   0.006   0.010   0.020   0.008   0.004   0.006   \n",
       "5         [Tilia_Tomentosa]   0.000   0.004   0.023   0.006   0.021   0.020   \n",
       "\n",
       "   margin7 margin8 margin9    ...    texture56 texture57 texture58 texture59  \\\n",
       "id                            ...                                              \n",
       "1    0.027   0.000   0.002    ...        0.000     0.003     0.003     0.035   \n",
       "2    0.020   0.000   0.000    ...        0.000     0.000     0.001     0.023   \n",
       "3    0.068   0.000   0.000    ...        0.000     0.006     0.001     0.008   \n",
       "5    0.023   0.000   0.014    ...        0.001     0.000     0.000     0.021   \n",
       "\n",
       "   texture60 texture61 texture62 texture63 texture64 isopratio  \n",
       "id                                                              \n",
       "1      0.000     0.000     0.005     0.000     0.025    10.619  \n",
       "2      0.000     0.000     0.001     0.039     0.022    12.229  \n",
       "3      0.000     0.000     0.000     0.021     0.003    10.981  \n",
       "5      0.000     0.000     0.018     0.000     0.048    11.181  \n",
       "\n",
       "[4 rows x 194 columns]"
      ]
     },
     "execution_count": 3,
     "metadata": {},
     "output_type": "execute_result"
    }
   ],
   "source": [
    "# Get pre-computed ratios data and training data\n",
    "ratios_df = pd.read_csv('ratiostest.csv')\n",
    "train_df = pd.read_csv('Data/train.csv')\n",
    "\n",
    "# Set indices for training and ratios data. Then combine. \n",
    "# Result printed to make sure isoperimetric ratios properly line up.\n",
    "train_df = train_df.set_index('id')\n",
    "\n",
    "ratios_df = ratios_df.set_index('id')\n",
    "print(seperator, 'Ratios Data Set Info')\n",
    "print(ratios_df.info())\n",
    "print(ratios_df[:6].applymap(myformat))\n",
    "\n",
    "train_df = pd.concat([train_df, ratios_df], axis = 1, join_axes = [train_df.index])\n",
    "print(seperator, 'After adding ratios column, training data is\\n')\n",
    "train_df[:4].applymap(myformat).head()"
   ]
  },
  {
   "cell_type": "code",
   "execution_count": 4,
   "metadata": {},
   "outputs": [
    {
     "name": "stdout",
     "output_type": "stream",
     "text": [
      "\n",
      "--------------------------------------------------------------------------------\n",
      " After cross validation separation, description of the training data species count = \n",
      "        species\n",
      "count      693\n",
      "unique      99\n",
      "top     75.000\n",
      "freq         7\n",
      "After cross validation separation, description of the test data = \n",
      "        species\n",
      "count      297\n",
      "unique      99\n",
      "top     17.000\n",
      "freq         3\n"
     ]
    }
   ],
   "source": [
    "# Now we need to encode the species category and do a Stratified Shuffle Split for cross validation.\n",
    "\n",
    "le = LabelEncoder().fit(train_df.species)\n",
    "train_df['species'] = le.transform(train_df.species)\n",
    "\n",
    "# Now seperate data for cross validation\n",
    "\n",
    "sss = StratifiedShuffleSplit(train_df['species'].values, 10, test_size = 0.3, random_state = 17)\n",
    "for train_i, test_i in sss:\n",
    "    train_index = train_i\n",
    "    test_index = test_i\n",
    "\n",
    "test_df = train_df.iloc[test_index]\n",
    "train_df = train_df.iloc[train_index]\n",
    "y_train = train_df['species'].values\n",
    "y_test = test_df['species'].values\n",
    "\n",
    "print(seperator, 'After cross validation separation, description of the training data species count = \\n', train_df[['species']].applymap(myformat).describe())\n",
    "print('After cross validation separation, description of the test data = \\n', test_df[['species']].applymap(myformat).describe())"
   ]
  },
  {
   "cell_type": "code",
   "execution_count": 5,
   "metadata": {},
   "outputs": [
    {
     "name": "stdout",
     "output_type": "stream",
     "text": [
      "\n",
      "--------------------------------------------------------------------------------\n",
      " After grouping by species and reordering, traingroups = \n",
      "         isopratio\n",
      "species          \n",
      "25          8.776\n",
      "21          8.820\n",
      "34          8.836\n",
      "23          8.962\n",
      "Order of species is\n",
      " [25 21 34 23 31 39 97 62 52 40]\n",
      "\n",
      "--------------------------------------------------------------------------------\n",
      " Training Data indices after attaching ordering\n",
      " Int64Index([1310, 1123, 879, 952], dtype='int64', name='id')\n"
     ]
    },
    {
     "data": {
      "image/png": "[encoded data removed]",
      "text/plain": [
       "<matplotlib.figure.Figure at 0x2762c26f7b8>"
      ]
     },
     "metadata": {},
     "output_type": "display_data"
    }
   ],
   "source": [
    "# To get a look at how the isoperimetric ratios vary by species, we order the species \n",
    "# by increasing mean isoperimetric ratio. Then we graph ratio vs species.\n",
    "\n",
    "traingroups = train_df[['species', 'isopratio']].groupby('species').mean()\n",
    "traingroups = traingroups.sort_values(by = 'isopratio', ascending = 1)\n",
    "print(seperator, 'After grouping by species and reordering, traingroups = \\n', traingroups.applymap(myformat)[:4])\n",
    "speciesorder = traingroups.index.values\n",
    "print('Order of species is\\n', speciesorder[:10])\n",
    "\n",
    "train_df['species'] = train_df['species'].astype('category')\n",
    "train_df['species'] = train_df['species'].cat.set_categories(speciesorder, ordered = True)\n",
    "\n",
    "print(seperator, 'Training Data indices after attaching ordering\\n', train_df.applymap(myformat).index[:4])\n",
    "\n",
    "# Plot species on x-axis and ratios on y-axis. Categories appear in the order we specified above.\n",
    "# Therefore, they appear in order of increasing mean ratio.\n",
    "\n",
    "ax = sns.stripplot(x = 'species', y = 'isopratio', data = train_df)\n",
    "plt.show()"
   ]
  },
  {
   "cell_type": "code",
   "execution_count": 6,
   "metadata": {},
   "outputs": [
    {
     "data": {
      "image/png": "[encoded data removed]",
      "text/plain": [
       "<matplotlib.figure.Figure at 0x2762c9d56d8>"
      ]
     },
     "metadata": {},
     "output_type": "display_data"
    }
   ],
   "source": [
    "# Now we will do PCA for the texture, shape, and margin features. We won't combine these \n",
    "# categories of features as it isn't clear how their length scales should be compared. Before we decide \n",
    "# on the number of components to keep, we need to keep analyze the variance ratios which we keep inside\n",
    "# a dictionary.\n",
    "\n",
    "variance_ratios = {}\n",
    "\n",
    "for name in ['texture', 'shape', 'margin']:\n",
    "    pca = decomposition.PCA()\n",
    "    collist =[name + str(i + 1) for i in range(64)]\n",
    "    pca.fit(train_df[collist])\n",
    "    variance_ratios[name] = pca.explained_variance_ratio_\n",
    "\n",
    "# Graph variance ratios of PCA for each attribute\n",
    "for series in variance_ratios.values():\n",
    "    plt.plot(series)\n",
    "plt.legend(variance_ratios.keys(), loc = 'upper right')\n",
    "plt.show()"
   ]
  },
  {
   "cell_type": "code",
   "execution_count": 7,
   "metadata": {
    "collapsed": true
   },
   "outputs": [],
   "source": [
    "# Using the graph of the variances, now decide which number of components of PCA to keep. Keep in a dictionary.\n",
    "\n",
    "ncomponents = {}\n",
    "ncomponents['texture'] = 4\n",
    "ncomponents['shape'] = 2\n",
    "ncomponents['margin'] = 6\n",
    "ncomponents['isopratio'] = 1\n",
    "\n",
    "# Now we use SciKit Pipeline and Function Transformer to allow feature selection and\n",
    "# separate PCA on each feature, using the number of components we have decided to keep.\n",
    "# For now, we keep track of pipelinekeys for each feater. Later we may put everything \n",
    "# into a single transformer using Pipeline and Feature Union.\n",
    "    \n",
    "def getColumns(name_, dfvalues):\n",
    "    start = train_df.columns.get_loc(name_ + str(1))\n",
    "    end = 1 + train_df.columns.get_loc(name_ + str(64))\n",
    "    return dfvalues[:, start:end]\n",
    "\n",
    "# Create dictionary of functions for getting columns of each feature.\n",
    "# Note the use of double lambdas to properly scope the use of name.\n",
    "\n",
    "colFunc = {}\n",
    "for name in ['texture', 'shape', 'margin']:\n",
    "    colFunc[name] = (lambda n: lambda X : getColumns(n, X))(name)\n",
    "    \n",
    "getisoploc = lambda : train_df.columns.get_loc(\"isopratio\")\n",
    "colFunc['isopratio'] = lambda X : X[:, getisoploc():1+getisoploc()]\n",
    "\n",
    "pipelinekeys = {}\n",
    "for name in ['texture', 'shape', 'margin', 'isopratio']:\n",
    "    key = ('cols_' + name, FunctionTransformer(colFunc[name]))\n",
    "    pipelinekeys[name] = [key]\n",
    "           \n",
    "for name in ['texture', 'shape', 'margin']:\n",
    "    key = ('pca_' + name, decomposition.PCA(n_components = ncomponents[name]))\n",
    "    pipelinekeys[name].append(key)\n"
   ]
  },
  {
   "cell_type": "code",
   "execution_count": 8,
   "metadata": {},
   "outputs": [
    {
     "name": "stdout",
     "output_type": "stream",
     "text": [
      "For texture we get shape =  (693, 64)\n",
      "Comparison of first columns is\n",
      "[[0.12207 0.12207]\n",
      " [0.0 0.0]\n",
      " [0.00293 0.00293]]\n",
      "For shape we get shape =  (693, 64)\n",
      "Comparison of first columns is\n",
      "[[0.00042118 0.00042118]\n",
      " [0.0010278 0.0010278]\n",
      " [0.00099926 0.00099926]]\n",
      "For margin we get shape =  (693, 64)\n",
      "Comparison of first columns is\n",
      "[[0.009766 0.009766]\n",
      " [0.039062 0.039062]\n",
      " [0.027344 0.027344]]\n",
      "For isopratio we get shape =  (693, 1)\n",
      "[[12.051152916700001 12.051152916700001]\n",
      " [9.583762978280001 9.583762978280001]\n",
      " [10.4805416735 10.4805416735]]\n"
     ]
    }
   ],
   "source": [
    "# Test the column getting functions for accuracy.\n",
    "\n",
    "for name in ['texture', 'shape', 'margin']:\n",
    "    Xtest = colFunc[name](train_df.values)\n",
    "    print('For ' + name + ' we get shape = ', Xtest.shape)\n",
    "    print('Comparison of first columns is')\n",
    "    Xtest = [Xtest[:,0], train_df[name + '1'].values]\n",
    "    Xtest = np.array(Xtest).T[:3]\n",
    "    print(Xtest)\n",
    "    \n",
    "Xtest = colFunc['isopratio'](train_df.values)\n",
    "print('For isopratio we get shape = ', Xtest.shape)\n",
    "Xtest = [Xtest[:,0], train_df['isopratio'].values]\n",
    "Xtest = np.array(Xtest).T[:3]\n",
    "print(Xtest)"
   ]
  },
  {
   "cell_type": "code",
   "execution_count": 9,
   "metadata": {},
   "outputs": [
    {
     "name": "stdout",
     "output_type": "stream",
     "text": [
      "For texture, shape = (693, 4)\n",
      "newData[texture][:4] = \n",
      "[[ 0.00781469 -0.11704458 -0.00654753  0.04130907]\n",
      " [ 0.16745287  0.09626072 -0.05504707 -0.05830052]\n",
      " [ 0.04675485 -0.11217732  0.05241974  0.01912691]\n",
      " [ 0.04292097 -0.04847828 -0.01422553 -0.07668421]]\n",
      "For shape, shape = (693, 2)\n",
      "newData[shape][:4] = \n",
      "[[-0.00174536 -0.00101563]\n",
      " [ 0.00063477  0.00099526]\n",
      " [-0.00023779  0.00115718]\n",
      " [-0.00179387 -0.00022165]]\n",
      "For margin, shape = (693, 6)\n",
      "newData[margin][:4] = \n",
      "[[-0.02805482  0.01365204 -0.03869438  0.01482869  0.00420741  0.00210268]\n",
      " [ 0.11349612 -0.06824881 -0.0066569   0.01362626 -0.03301562 -0.04241853]\n",
      " [ 0.01308141 -0.00328548 -0.03609774 -0.04946091 -0.00867878 -0.0051257 ]\n",
      " [ 0.02569113  0.01639262  0.00980169 -0.0322103  -0.02996315  0.01660941]]\n",
      "For isopratio, shape = (693, 1)\n",
      "newData[isopratio][:4] = \n",
      "[[ 12.05115292]\n",
      " [  9.58376298]\n",
      " [ 10.48054167]\n",
      " [ 10.00662712]]\n"
     ]
    }
   ],
   "source": [
    "# Transform the training data to continue building our model. Double check that the \n",
    "# transformed data has the right shape. Also double check contents of newData, especially\n",
    "# to make sure there isn't any scoping issues in our Function Transformer that cause all\n",
    "# of the features to be pulled from the same data.\n",
    "\n",
    "newData = {}\n",
    "\n",
    "for name in ['texture', 'shape', 'margin', 'isopratio']:\n",
    "    transformer = Pipeline(pipelinekeys[name])\n",
    "    newData[name] = transformer.fit_transform(train_df.values)\n",
    "    height, width = newData[name].shape\n",
    "    print(\"For \" + name + \", shape = \" + str(newData[name].shape))\n",
    "    print(\"newData[\" + name +\"][:4] = \")\n",
    "    print(newData[name][:4])"
   ]
  },
  {
   "cell_type": "code",
   "execution_count": 10,
   "metadata": {},
   "outputs": [
    {
     "data": {
      "image/png": "[encoded data removed]",
      "text/plain": [
       "<matplotlib.figure.Figure at 0x2762c5d5710>"
      ]
     },
     "metadata": {},
     "output_type": "display_data"
    }
   ],
   "source": [
    "# Make 3d scatterplot\n",
    "colordict = {}\n",
    "for i in range(len(speciesorder)):\n",
    "    colordict[speciesorder[i]] = i\n",
    "\n",
    "plotcolors = train_df['species'].apply(lambda x: colordict[x]) \n",
    "fig2 = plt.figure()\n",
    "ax2 = fig2.add_subplot(111, projection = '3d' )\n",
    "ax2.scatter(newData['texture'][:,0], newData['texture'][:,1], newData['texture'][:,2], c = plotcolors)\n",
    "\n",
    "plt.show()"
   ]
  },
  {
   "cell_type": "code",
   "execution_count": 11,
   "metadata": {
    "collapsed": true
   },
   "outputs": [],
   "source": [
    "# Make an isomap for the texture data.\n",
    "\n",
    "newNComponents = 3\n",
    "transformer = Isomap(n_neighbors = 5, n_components = newNComponents)\n",
    "newData['texture'] = transformer.fit_transform(newData['texture'])\n",
    "key = ('isomap_texture', transformer)\n",
    "pipelinekeys['texture'].append(key)\n",
    "\n",
    "# Adjust the number of components for texture feature.\n",
    "\n",
    "ncomponents['texture'] = newNComponents\n",
    "\n",
    "# Make 3d scatterplot for transformed data.\n",
    "\n",
    "#fig2 = plt.figure()\n",
    "#ax2 = fig2.add_subplot(111, projection = '3d' )\n",
    "#ax2.scatter(newData['texture'][:,0], newData['texture'][:,1], newData['texture'][:,2], c = plotcolors)\n",
    "\n",
    "#plt.show()"
   ]
  },
  {
   "cell_type": "code",
   "execution_count": 12,
   "metadata": {
    "collapsed": true
   },
   "outputs": [],
   "source": [
    "# Add scalers to pipelinekeys. Scalers help with normalization for comparison.\n",
    "# For each feature, we only fit our scaler using only the first component. We don't\n",
    "# want to independently normalize the other components as they represent smaller\n",
    "# variations in the feature.\n",
    "\n",
    "def scaleUsingFirstFeature(X):\n",
    "    scaler = MinMaxScaler()\n",
    "    scaler.fit(X[:,0].reshape(-1,1))\n",
    "    return scaler.transform(X)\n",
    "    \n",
    "for name in ['texture', 'shape', 'margin', 'isopratio']:\n",
    "    transformer = FunctionTransformer(scaleUsingFirstFeature)\n",
    "    key = ('scaler_' + name, transformer)\n",
    "    pipelinekeys[name].append(key)\n",
    "    newData[name] = transformer.transform(newData[name])"
   ]
  },
  {
   "cell_type": "code",
   "execution_count": 13,
   "metadata": {},
   "outputs": [
    {
     "data": {
      "text/plain": [
       "{'isopratio': [('cols_isopratio', FunctionTransformer(accept_sparse=False,\n",
       "             func=<function <lambda> at 0x000002762C44C158>, inv_kw_args=None,\n",
       "             inverse_func=None, kw_args=None, pass_y=False, validate=True)),\n",
       "  ('scaler_isopratio', FunctionTransformer(accept_sparse=False,\n",
       "             func=<function scaleUsingFirstFeature at 0x000002762C70A378>,\n",
       "             inv_kw_args=None, inverse_func=None, kw_args=None, pass_y=False,\n",
       "             validate=True))],\n",
       " 'margin': [('cols_margin', FunctionTransformer(accept_sparse=False,\n",
       "             func=<function <lambda>.<locals>.<lambda> at 0x000002762CE4E400>,\n",
       "             inv_kw_args=None, inverse_func=None, kw_args=None, pass_y=False,\n",
       "             validate=True)),\n",
       "  ('pca_margin',\n",
       "   PCA(copy=True, iterated_power='auto', n_components=6, random_state=None,\n",
       "     svd_solver='auto', tol=0.0, whiten=False)),\n",
       "  ('scaler_margin', FunctionTransformer(accept_sparse=False,\n",
       "             func=<function scaleUsingFirstFeature at 0x000002762C70A378>,\n",
       "             inv_kw_args=None, inverse_func=None, kw_args=None, pass_y=False,\n",
       "             validate=True))],\n",
       " 'shape': [('cols_shape', FunctionTransformer(accept_sparse=False,\n",
       "             func=<function <lambda>.<locals>.<lambda> at 0x000002762C5BCAE8>,\n",
       "             inv_kw_args=None, inverse_func=None, kw_args=None, pass_y=False,\n",
       "             validate=True)),\n",
       "  ('pca_shape',\n",
       "   PCA(copy=True, iterated_power='auto', n_components=2, random_state=None,\n",
       "     svd_solver='auto', tol=0.0, whiten=False)),\n",
       "  ('scaler_shape', FunctionTransformer(accept_sparse=False,\n",
       "             func=<function scaleUsingFirstFeature at 0x000002762C70A378>,\n",
       "             inv_kw_args=None, inverse_func=None, kw_args=None, pass_y=False,\n",
       "             validate=True))],\n",
       " 'texture': [('cols_texture', FunctionTransformer(accept_sparse=False,\n",
       "             func=<function <lambda>.<locals>.<lambda> at 0x000002762C56AD90>,\n",
       "             inv_kw_args=None, inverse_func=None, kw_args=None, pass_y=False,\n",
       "             validate=True)),\n",
       "  ('pca_texture',\n",
       "   PCA(copy=True, iterated_power='auto', n_components=4, random_state=None,\n",
       "     svd_solver='auto', tol=0.0, whiten=False)),\n",
       "  ('isomap_texture',\n",
       "   Isomap(eigen_solver='auto', max_iter=None, n_components=3, n_jobs=1,\n",
       "       n_neighbors=5, neighbors_algorithm='auto', path_method='auto', tol=0)),\n",
       "  ('scaler_texture', FunctionTransformer(accept_sparse=False,\n",
       "             func=<function scaleUsingFirstFeature at 0x000002762C70A378>,\n",
       "             inv_kw_args=None, inverse_func=None, kw_args=None, pass_y=False,\n",
       "             validate=True))]}"
      ]
     },
     "execution_count": 13,
     "metadata": {},
     "output_type": "execute_result"
    }
   ],
   "source": [
    "# Double Check the Contents of the Pipeline Keys.\n",
    "\n",
    "pipelinekeys"
   ]
  },
  {
   "cell_type": "code",
   "execution_count": 14,
   "metadata": {},
   "outputs": [
    {
     "data": {
      "text/plain": [
       "array([[ 0.54417104,  0.43805225,  0.56857608,  0.16296611],\n",
       "       [ 0.36764557,  0.64410611,  0.55414993,  0.04632266],\n",
       "       [ 0.48644971,  0.3974295 ,  0.50872625,  0.088717  ]])"
      ]
     },
     "execution_count": 14,
     "metadata": {},
     "output_type": "execute_result"
    }
   ],
   "source": [
    "debugkeys = [('a', Pipeline(pipelinekeys['texture'])), ('b', Pipeline(pipelinekeys['isopratio']))]\n",
    "testtransformer = FeatureUnion(debugkeys)\n",
    "Xdebug = testtransformer.fit_transform(train_df.values)\n",
    "Xdebug[:3]"
   ]
  },
  {
   "cell_type": "code",
   "execution_count": 15,
   "metadata": {},
   "outputs": [
    {
     "data": {
      "text/plain": [
       "[('texture',\n",
       "  Pipeline(steps=[('cols_texture', FunctionTransformer(accept_sparse=False,\n",
       "            func=<function <lambda>.<locals>.<lambda> at 0x000002762C56AD90>,\n",
       "            inv_kw_args=None, inverse_func=None, kw_args=None, pass_y=False,\n",
       "            validate=True)), ('pca_texture', PCA(copy=True, iterated_power='auto', n_c...         inv_kw_args=None, inverse_func=None, kw_args=None, pass_y=False,\n",
       "            validate=True))])),\n",
       " ('shape',\n",
       "  Pipeline(steps=[('cols_shape', FunctionTransformer(accept_sparse=False,\n",
       "            func=<function <lambda>.<locals>.<lambda> at 0x000002762C5BCAE8>,\n",
       "            inv_kw_args=None, inverse_func=None, kw_args=None, pass_y=False,\n",
       "            validate=True)), ('pca_shape', PCA(copy=True, iterated_power='auto', n_compo...         inv_kw_args=None, inverse_func=None, kw_args=None, pass_y=False,\n",
       "            validate=True))])),\n",
       " ('margin',\n",
       "  Pipeline(steps=[('cols_margin', FunctionTransformer(accept_sparse=False,\n",
       "            func=<function <lambda>.<locals>.<lambda> at 0x000002762CE4E400>,\n",
       "            inv_kw_args=None, inverse_func=None, kw_args=None, pass_y=False,\n",
       "            validate=True)), ('pca_margin', PCA(copy=True, iterated_power='auto', n_com...         inv_kw_args=None, inverse_func=None, kw_args=None, pass_y=False,\n",
       "            validate=True))])),\n",
       " ('isopratio',\n",
       "  Pipeline(steps=[('cols_isopratio', FunctionTransformer(accept_sparse=False,\n",
       "            func=<function <lambda> at 0x000002762C44C158>, inv_kw_args=None,\n",
       "            inverse_func=None, kw_args=None, pass_y=False, validate=True)), ('scaler_isopratio', FunctionTransformer(accept_sparse=False,\n",
       "            func=<function scaleUsingFirstFeature at 0x000002762C70A378>,\n",
       "            inv_kw_args=None, inverse_func=None, kw_args=None, pass_y=False,\n",
       "            validate=True))]))]"
      ]
     },
     "execution_count": 15,
     "metadata": {},
     "output_type": "execute_result"
    }
   ],
   "source": [
    "# Set up preprocessing with and without Isoperimetric Ratios. Use SciKit Feature Union.\n",
    "\n",
    "transformerkeys = []\n",
    "for name in ['texture', 'shape', 'margin']:\n",
    "    key = (name, Pipeline(pipelinekeys[name]))\n",
    "    transformerkeys.append(key)\n",
    "\n",
    "combined = {}\n",
    "combined['without'] = FeatureUnion(transformerkeys.copy())\n",
    "\n",
    "isopkey = ('isopratio', Pipeline(pipelinekeys['isopratio']))\n",
    "transformerkeys.append(isopkey)\n",
    "combined['with'] = FeatureUnion(transformerkeys.copy())\n",
    "\n",
    "\n",
    "# Set up training/testing data for the cases of with and without isoperimetric ratios. To be used in estimator.\n",
    "X_train = {}\n",
    "X_test = {}\n",
    "for name in ['with', 'without']:\n",
    "    X_train[name] = combined[name].fit_transform(train_df.values)\n",
    "    X_test[name] = combined[name].transform(test_df.values)\n",
    "\n",
    "transformerkeys"
   ]
  },
  {
   "cell_type": "code",
   "execution_count": 16,
   "metadata": {},
   "outputs": [
    {
     "data": {
      "text/plain": [
       "{'isopratio': 1, 'margin': 6, 'shape': 2, 'texture': 3}"
      ]
     },
     "execution_count": 16,
     "metadata": {},
     "output_type": "execute_result"
    }
   ],
   "source": [
    "ncomponents"
   ]
  },
  {
   "cell_type": "code",
   "execution_count": 17,
   "metadata": {},
   "outputs": [
    {
     "name": "stdout",
     "output_type": "stream",
     "text": [
      "Finished Processing 0.0 0.0 0.0 0.0 0\n",
      "Finished Processing 0.0 0.5 0.5 0.5 6\n",
      "Finished Processing 0.25 0.0 0.0 0.0 0\n",
      "Finished Processing 0.25 0.5 0.5 0.5 6\n",
      "Finished Processing 0.5 0.0 0.0 0.0 0\n",
      "Finished Processing 0.5 0.5 0.5 0.5 6\n",
      "Finished Processing 0.75 0.0 0.0 0.0 0\n",
      "Finished Processing 0.75 0.5 0.5 0.5 6\n",
      "Finished Processing 1.0 0.0 0.0 0.0 0\n",
      "Finished Processing 1.0 0.5 0.5 0.5 6\n"
     ]
    },
    {
     "data": {
      "text/plain": [
       "'Finished Processing'"
      ]
     },
     "execution_count": 17,
     "metadata": {},
     "output_type": "execute_result"
    }
   ],
   "source": [
    "# Do K Nearest Neighbors for the cases of with and without isoperimetric ratios.\n",
    "\n",
    "neighborsrange = range(12)\n",
    "acc = {'with' : [], 'without' : []}\n",
    "logloss = {'with' : [], 'without' : []}\n",
    "\n",
    "weightRange = [0.0, 0.25, 0.5, 0.75, 1.0]\n",
    "parameters = [(x, y, z, w, nn) for x in weightRange \n",
    "                               for y in weightRange \n",
    "                               for z in weightRange \n",
    "                               for w in weightRange \n",
    "                               for nn in neighborsrange]\n",
    "parameters = [parameters[i] + (i,) for i in range(len(parameters))]\n",
    "def applyWeightsWith( X, weightDict):\n",
    "    i = 0\n",
    "    result = np.empty(X.shape)\n",
    "    for name in ['texture', 'shape', 'margin', 'isopratio']:\n",
    "        i2 = i + ncomponents[name]\n",
    "        result[:, i:i2] = weightDict[name] * X[:, i:i2]\n",
    "        i = i2\n",
    "    return result\n",
    "def applyWeightsWithout(X, weightDict):\n",
    "    i = 0\n",
    "    result = np.empty(X.shape)\n",
    "    for name in ['texture', 'shape', 'margin']:\n",
    "        i2 = i + ncomponents[name]\n",
    "        result[:, i:i2] = weightDict[name] * X[:, i:i2]\n",
    "        i = i2\n",
    "    return result\n",
    "\n",
    "X_train2 = {}\n",
    "X_test2 = {}\n",
    "\n",
    "for textureW, shapeW, marginW, isopratioW, kneighbors, i in parameters:\n",
    "    knn = KNeighborsClassifier(kneighbors + 1)\n",
    "    \n",
    "    weightDict = {'texture' : textureW, 'shape' : shapeW, 'margin' : marginW, 'isopratio' : isopratioW}\n",
    "    X_train2['with'] = applyWeightsWith( X_train['with'], weightDict)\n",
    "    X_test2['with'] = applyWeightsWith( X_test['with'], weightDict)\n",
    "    X_train2['without'] = applyWeightsWithout( X_train['without'], weightDict)\n",
    "    X_test2['without'] = applyWeightsWithout( X_test['without'], weightDict)\n",
    "    \n",
    "    for name in ['with', 'without']:\n",
    "    \n",
    "        # Make the K Nearest Neighbor classifier using right pipeline\n",
    "        \n",
    "        #clfkeys = [(\"combined\", combined[name]), (\"knn\", knn)]\n",
    "        #clf = Pipeline( clfkeys )\n",
    "        clf = knn\n",
    "        clf.fit(X_train2[name], y_train)\n",
    "        test_predictions = clf.predict(X_test2[name])\n",
    "        prob_predictions = clf.predict_proba(X_test2[name])\n",
    "    \n",
    "        # Accuracy and LogLoss\n",
    "\n",
    "        acc[name].append(accuracy_score(y_test, test_predictions))\n",
    "        logloss[name].append(log_loss(y_test, prob_predictions))\n",
    "   \n",
    "    if(i % int(len(parameters)/10) == 0):\n",
    "        print('Finished Processing', textureW, shapeW, marginW, isopratioW, kneighbors)\n",
    "    \n",
    "'Finished Processing'"
   ]
  },
  {
   "cell_type": "code",
   "execution_count": 18,
   "metadata": {},
   "outputs": [
    {
     "name": "stdout",
     "output_type": "stream",
     "text": [
      "(297, 12)\n",
      "(297, 12)\n",
      "(297, 11)\n"
     ]
    }
   ],
   "source": [
    "print(X_test2['with'].shape)\n",
    "print(X_test['with'].shape)\n",
    "print(X_test2['without'].shape)"
   ]
  },
  {
   "cell_type": "code",
   "execution_count": 19,
   "metadata": {},
   "outputs": [
    {
     "data": {
      "text/html": [
       "<div>\n",
       "<table border=\"1\" class=\"dataframe\">\n",
       "  <thead>\n",
       "    <tr style=\"text-align: right;\">\n",
       "      <th></th>\n",
       "      <th>AccWith</th>\n",
       "      <th>LogLossWith</th>\n",
       "      <th>AccWithout</th>\n",
       "      <th>LogLossWithout</th>\n",
       "    </tr>\n",
       "    <tr>\n",
       "      <th>k</th>\n",
       "      <th></th>\n",
       "      <th></th>\n",
       "      <th></th>\n",
       "      <th></th>\n",
       "    </tr>\n",
       "  </thead>\n",
       "  <tbody>\n",
       "    <tr>\n",
       "      <th>(0.0, 0.0, 0.0, 0.0, 0, 0)</th>\n",
       "      <td>0.010101</td>\n",
       "      <td>34.1899</td>\n",
       "      <td>0.010101</td>\n",
       "      <td>34.1899</td>\n",
       "    </tr>\n",
       "    <tr>\n",
       "      <th>(0.0, 0.0, 0.0, 0.0, 1, 1)</th>\n",
       "      <td>0.010101</td>\n",
       "      <td>33.855</td>\n",
       "      <td>0.010101</td>\n",
       "      <td>33.855</td>\n",
       "    </tr>\n",
       "    <tr>\n",
       "      <th>(0.0, 0.0, 0.0, 0.0, 2, 2)</th>\n",
       "      <td>0.010101</td>\n",
       "      <td>33.5254</td>\n",
       "      <td>0.010101</td>\n",
       "      <td>33.5254</td>\n",
       "    </tr>\n",
       "    <tr>\n",
       "      <th>(0.0, 0.0, 0.0, 0.0, 3, 3)</th>\n",
       "      <td>0.010101</td>\n",
       "      <td>33.1993</td>\n",
       "      <td>0.010101</td>\n",
       "      <td>33.1993</td>\n",
       "    </tr>\n",
       "    <tr>\n",
       "      <th>(0.0, 0.0, 0.0, 0.0, 4, 4)</th>\n",
       "      <td>0.010101</td>\n",
       "      <td>32.8757</td>\n",
       "      <td>0.010101</td>\n",
       "      <td>32.8757</td>\n",
       "    </tr>\n",
       "  </tbody>\n",
       "</table>\n",
       "</div>"
      ],
      "text/plain": [
       "                             AccWith LogLossWith AccWithout LogLossWithout\n",
       "k                                                                         \n",
       "(0.0, 0.0, 0.0, 0.0, 0, 0)  0.010101     34.1899   0.010101        34.1899\n",
       "(0.0, 0.0, 0.0, 0.0, 1, 1)  0.010101      33.855   0.010101         33.855\n",
       "(0.0, 0.0, 0.0, 0.0, 2, 2)  0.010101     33.5254   0.010101        33.5254\n",
       "(0.0, 0.0, 0.0, 0.0, 3, 3)  0.010101     33.1993   0.010101        33.1993\n",
       "(0.0, 0.0, 0.0, 0.0, 4, 4)  0.010101     32.8757   0.010101        32.8757"
      ]
     },
     "execution_count": 19,
     "metadata": {},
     "output_type": "execute_result"
    }
   ],
   "source": [
    "results = [parameters, acc['with'], logloss['with'], acc['without'], logloss['without']]\n",
    "results = np.array(results).T\n",
    "collist = ['k', 'AccWith', 'LogLossWith', 'AccWithout', 'LogLossWithout']\n",
    "results_df = pd.DataFrame(results, columns = collist)\n",
    "results_df = results_df.set_index('k')\n",
    "\n",
    "results_df.head()  "
   ]
  },
  {
   "cell_type": "code",
   "execution_count": 20,
   "metadata": {},
   "outputs": [
    {
     "data": {
      "text/html": [
       "<div>\n",
       "<table border=\"1\" class=\"dataframe\">\n",
       "  <thead>\n",
       "    <tr style=\"text-align: right;\">\n",
       "      <th></th>\n",
       "      <th>AccWith</th>\n",
       "      <th>LogLossWith</th>\n",
       "      <th>AccWithout</th>\n",
       "      <th>LogLossWithout</th>\n",
       "    </tr>\n",
       "    <tr>\n",
       "      <th>k</th>\n",
       "      <th></th>\n",
       "      <th></th>\n",
       "      <th></th>\n",
       "      <th></th>\n",
       "    </tr>\n",
       "  </thead>\n",
       "  <tbody>\n",
       "    <tr>\n",
       "      <th>(0.5, 0.25, 0.5, 0.75, 4, 3460)</th>\n",
       "      <td>0.845118</td>\n",
       "      <td>0.475715</td>\n",
       "      <td>0.841751</td>\n",
       "      <td>0.960734</td>\n",
       "    </tr>\n",
       "    <tr>\n",
       "      <th>(0.5, 0.25, 0.5, 1.0, 3, 3471)</th>\n",
       "      <td>0.878788</td>\n",
       "      <td>0.426288</td>\n",
       "      <td>0.835017</td>\n",
       "      <td>1.23659</td>\n",
       "    </tr>\n",
       "    <tr>\n",
       "      <th>(0.5, 0.25, 0.5, 1.0, 4, 3472)</th>\n",
       "      <td>0.848485</td>\n",
       "      <td>0.473778</td>\n",
       "      <td>0.841751</td>\n",
       "      <td>0.960734</td>\n",
       "    </tr>\n",
       "  </tbody>\n",
       "</table>\n",
       "</div>"
      ],
      "text/plain": [
       "                                  AccWith LogLossWith AccWithout  \\\n",
       "k                                                                  \n",
       "(0.5, 0.25, 0.5, 0.75, 4, 3460)  0.845118    0.475715   0.841751   \n",
       "(0.5, 0.25, 0.5, 1.0, 3, 3471)   0.878788    0.426288   0.835017   \n",
       "(0.5, 0.25, 0.5, 1.0, 4, 3472)   0.848485    0.473778   0.841751   \n",
       "\n",
       "                                LogLossWithout  \n",
       "k                                               \n",
       "(0.5, 0.25, 0.5, 0.75, 4, 3460)       0.960734  \n",
       "(0.5, 0.25, 0.5, 1.0, 3, 3471)         1.23659  \n",
       "(0.5, 0.25, 0.5, 1.0, 4, 3472)        0.960734  "
      ]
     },
     "execution_count": 20,
     "metadata": {},
     "output_type": "execute_result"
    }
   ],
   "source": [
    "results_df[results_df['LogLossWith'] < 0.5]"
   ]
  },
  {
   "cell_type": "code",
   "execution_count": 58,
   "metadata": {},
   "outputs": [
    {
     "name": "stdout",
     "output_type": "stream",
     "text": [
      "Initial logloss0 =  0.426287812261\n",
      "Finished doing step  0\n",
      "Finished doing step  30\n",
      "Finished doing step  60\n",
      "Finished doing step  90\n",
      "Finished doing step  120\n",
      "Finished doing step  150\n",
      "Finished doing step  180\n",
      "Finished doing step  210\n",
      "Finished doing step  240\n",
      "Finished doing step  270\n"
     ]
    },
    {
     "data": {
      "text/plain": [
       "(array([ 0.38596692,  0.21807053,  0.35665327,  0.82235833]),\n",
       " 0.40255294747517129)"
      ]
     },
     "execution_count": 58,
     "metadata": {},
     "output_type": "execute_result"
    }
   ],
   "source": [
    "# Poor man's gradient descent for the k nearest neighbors classifier. Vary scalings as points on a higher\n",
    "# dimensional sphere where the function to be optimized is given by minimum of applying k nearest neighbors to \n",
    "# neighbors range.\n",
    "\n",
    "neighborsrange = range(7)\n",
    "param0 = np.array([0.5, 0.25, 0.5, 1.0])\n",
    "#param0 = np.array([1.0, 1.0, 1.0, 1.0])\n",
    "param0 = param0 / np.linalg.norm(param0)\n",
    "\n",
    "dparam = 0.05\n",
    "nSteps = 300\n",
    "\n",
    "def minLogLoss(X_train_, y_train_, X_test_, y_test_):\n",
    "    logloss = []\n",
    "    for kneighbors in neighborsrange:\n",
    "        knn = KNeighborsClassifier(kneighbors + 1)\n",
    "        clf = knn\n",
    "        clf.fit(X_train_, y_train_)\n",
    "        prob_predictions = clf.predict_proba(X_test_)\n",
    "        logloss.append(log_loss(y_test_, prob_predictions))\n",
    "    return min(logloss)\n",
    "\n",
    "weightDict = {'texture' : param0[0], 'shape' : param0[1], 'margin' : param0[2], 'isopratio' : param0[3]}\n",
    "X_train2['with'] = applyWeightsWith( X_train['with'], weightDict)\n",
    "X_test2['with'] = applyWeightsWith( X_test['with'], weightDict)\n",
    "logloss0 = minLogLoss(X_train2['with'], y_train, X_test2['with'], y_test)\n",
    "print('Initial logloss0 = ', logloss0)\n",
    "\n",
    "indextochange = 0\n",
    "for step in range(nSteps):\n",
    "    indextochange = int(indextochange + 1) % 4\n",
    "    param1 = param0.copy()\n",
    "    param1[indextochange] += dparam\n",
    "    param1 /= np.linalg.norm(param1)\n",
    "    \n",
    "    weightDict = {'texture' : param1[0], 'shape' : param1[1], 'margin' : param1[2], 'isopratio' : param1[3]}\n",
    "    X_train2['with'] = applyWeightsWith( X_train['with'], weightDict)\n",
    "    X_test2['with'] = applyWeightsWith( X_test['with'], weightDict)\n",
    "    \n",
    "    logloss1 = minLogLoss(X_train2['with'], y_train, X_test2['with'], y_test)\n",
    "    if(logloss1 < logloss0):\n",
    "        param0 = param1\n",
    "        logloss0 = logloss1\n",
    "    else:\n",
    "        param1 = param0.copy()\n",
    "        param1[indextochange] -= dparam\n",
    "        param1 /= np.linalg.norm(param1)\n",
    "        \n",
    "        weightDict = {'texture' : param1[0], 'shape' : param1[1], 'margin' : param1[2], 'isopratio' : param1[3]}\n",
    "        X_train2['with'] = applyWeightsWith( X_train['with'], weightDict)\n",
    "        X_test2['with'] = applyWeightsWith( X_test['with'], weightDict)\n",
    "        \n",
    "        logloss1 = minLogLoss(X_train2['with'], y_train, X_test2['with'], y_test)\n",
    "        if(logloss1 < logloss0):\n",
    "            param0 = param1\n",
    "            logloss0 = logloss1\n",
    "        else:\n",
    "            if(indextochange == 0):\n",
    "                dparam /= 2.0\n",
    "        \n",
    "    if(step % int(nSteps / 10) == 0):\n",
    "        print('Finished doing step ', step)\n",
    "        \n",
    "param0, logloss0"
   ]
  },
  {
   "cell_type": "code",
   "execution_count": null,
   "metadata": {
    "collapsed": true
   },
   "outputs": [],
   "source": []
  }
 ],
 "metadata": {
  "kernelspec": {
   "display_name": "Python 3",
   "language": "python",
   "name": "python3"
  },
  "language_info": {
   "codemirror_mode": {
    "name": "ipython",
    "version": 3
   },
   "file_extension": ".py",
   "mimetype": "text/x-python",
   "name": "python",
   "nbconvert_exporter": "python",
   "pygments_lexer": "ipython3",
   "version": "3.5.2"
  }
 },
 "nbformat": 4,
 "nbformat_minor": 2
}
